{
 "cells": [
  {
   "cell_type": "code",
   "execution_count": 1,
   "metadata": {},
   "outputs": [
    {
     "name": "stdout",
     "output_type": "stream",
     "text": [
      "importing Jupyter notebook from Classes.ipynb\n"
     ]
    },
    {
     "name": "stderr",
     "output_type": "stream",
     "text": [
      "C:\\Users\\Asiye\\Anaconda3\\lib\\site-packages\\sklearn\\externals\\six.py:31: DeprecationWarning: The module is deprecated in version 0.21 and will be removed in version 0.23 since we've dropped support for Python 2.7. Please rely on the official version of six (https://pypi.org/project/six/).\n",
      "  \"(https://pypi.org/project/six/).\", DeprecationWarning)\n"
     ]
    }
   ],
   "source": [
    "import pandas as pd\n",
    "import seaborn as sns\n",
    "import matplotlib.pyplot as plt\n",
    "\n",
    "import import_ipynb\n",
    "import Classes\n"
   ]
  },
  {
   "cell_type": "code",
   "execution_count": 2,
   "metadata": {},
   "outputs": [],
   "source": [
    "data = pd.read_csv(\"hmelq.csv\")"
   ]
  },
  {
   "cell_type": "code",
   "execution_count": 3,
   "metadata": {},
   "outputs": [
    {
     "name": "stdout",
     "output_type": "stream",
     "text": [
      "--------------------------  DATA HEAD --------------------------\n",
      "\n",
      "   bad   loan   mortdue     value   reason  job   yoj  derog  delinq   clage  \\\n",
      "0    0  81200   18834.0  108355.0  HomeImp  NaN  28.0    0.0     0.0  139.14   \n",
      "1    0  12600  103960.0  127384.0  DebtCon  NaN   2.0    0.0     0.0  129.02   \n",
      "2    0  18000   46865.0   61266.0  DebtCon  NaN   5.0    0.0     0.0  102.59   \n",
      "3    0  10300   57676.0   71027.0  DebtCon  NaN  19.0    0.0     0.0  157.52   \n",
      "4    0   9400   56508.0   78358.0  DebtCon  NaN  17.0    0.0     0.0  141.93   \n",
      "\n",
      "   ninq  clno  debtinc  \n",
      "0   0.0  14.0   34.042  \n",
      "1   0.0  25.0   34.479  \n",
      "2   2.0   9.0   26.354  \n",
      "3   1.0  11.0   33.992  \n",
      "4   0.0  11.0   32.327  \n",
      "\n",
      "--------------------------  DATA DESCRIBE --------------------------\n",
      "\n",
      "          count           mean           std      min       25%        50%  \\\n",
      "bad      3576.0       0.199385      0.399594     0.00      0.00      0.000   \n",
      "loan     3576.0   18529.697987  11262.834060  1100.00  11000.00  16200.000   \n",
      "mortdue  3262.0   74013.907992  44016.833772  2619.00  46700.25  65858.000   \n",
      "value    3512.0  101076.922759  54865.275351  8800.00  65753.00  89183.000   \n",
      "yoj      3264.0       8.832644      7.568046     0.00      3.00      7.000   \n",
      "derog    3149.0       0.261670      0.865178     0.00      0.00      0.000   \n",
      "delinq   3225.0       0.432558      1.099230     0.00      0.00      0.000   \n",
      "clage    3397.0     179.832529     87.066198     0.49    115.60    173.640   \n",
      "ninq     3273.0       1.186373      1.728723     0.00      0.00      1.000   \n",
      "clno     3443.0      21.507116     10.167490     0.00     15.00     20.000   \n",
      "debtinc  2809.0      33.831737      9.061837     0.72     29.14     34.747   \n",
      "\n",
      "               75%         max  \n",
      "bad           0.00       1.000  \n",
      "loan      23100.00   89900.000  \n",
      "mortdue   91717.00  399550.000  \n",
      "value    118928.25  850000.000  \n",
      "yoj          13.00      41.000  \n",
      "derog         0.00      10.000  \n",
      "delinq        0.00      15.000  \n",
      "clage       230.71    1168.230  \n",
      "ninq          2.00      17.000  \n",
      "clno         26.00      71.000  \n",
      "debtinc      38.94     203.312  \n",
      "\n",
      "--------------------------  DATA INFO --------------------------\n",
      "\n",
      "<class 'pandas.core.frame.DataFrame'>\n",
      "RangeIndex: 3576 entries, 0 to 3575\n",
      "Data columns (total 13 columns):\n",
      "bad        3576 non-null int64\n",
      "loan       3576 non-null int64\n",
      "mortdue    3262 non-null float64\n",
      "value      3512 non-null float64\n",
      "reason     3429 non-null object\n",
      "job        3409 non-null object\n",
      "yoj        3264 non-null float64\n",
      "derog      3149 non-null float64\n",
      "delinq     3225 non-null float64\n",
      "clage      3397 non-null float64\n",
      "ninq       3273 non-null float64\n",
      "clno       3443 non-null float64\n",
      "debtinc    2809 non-null float64\n",
      "dtypes: float64(9), int64(2), object(2)\n",
      "memory usage: 335.3+ KB\n",
      "None\n",
      "\n",
      "--------------------------  DATA SHAPE --------------------------\n",
      "\n",
      "(3576, 13)\n",
      "\n"
     ]
    }
   ],
   "source": [
    "information = Classes.Information(data)\n",
    "information.data_features()"
   ]
  },
  {
   "cell_type": "code",
   "execution_count": 4,
   "metadata": {},
   "outputs": [
    {
     "data": {
      "text/plain": [
       "0    2863\n",
       "1     713\n",
       "Name: bad, dtype: int64"
      ]
     },
     "execution_count": 4,
     "metadata": {},
     "output_type": "execute_result"
    }
   ],
   "source": [
    "data['bad'].value_counts()"
   ]
  },
  {
   "cell_type": "code",
   "execution_count": 5,
   "metadata": {},
   "outputs": [
    {
     "data": {
      "image/png": "[encoded data removed]",
      "text/plain": [
       "<Figure size 432x288 with 1 Axes>"
      ]
     },
     "metadata": {
      "needs_background": "light"
     },
     "output_type": "display_data"
    }
   ],
   "source": [
    "sns.countplot(x = 'bad', data = data)\n",
    "plt.show()"
   ]
  },
  {
   "cell_type": "code",
   "execution_count": 6,
   "metadata": {},
   "outputs": [
    {
     "name": "stdout",
     "output_type": "stream",
     "text": [
      "Kredisini Ödeyenler 80.06152125279642\n",
      "Kredisini Ödemeyenler 19.938478747203582\n"
     ]
    }
   ],
   "source": [
    "count_no_sub = len(data[data['bad']==0])\n",
    "count_sub = len(data[data['bad']==1])\n",
    "pct_of_no_sub = count_no_sub/(count_no_sub+count_sub)\n",
    "print(\"Kredisini Ödeyenler\", pct_of_no_sub*100)\n",
    "pct_of_sub = count_sub/(count_no_sub+count_sub)\n",
    "print(\"Kredisini Ödemeyenler\", pct_of_sub*100)"
   ]
  },
  {
   "cell_type": "code",
   "execution_count": 7,
   "metadata": {},
   "outputs": [
    {
     "data": {
      "text/html": [
       "<div>\n",
       "<style scoped>\n",
       "    .dataframe tbody tr th:only-of-type {\n",
       "        vertical-align: middle;\n",
       "    }\n",
       "\n",
       "    .dataframe tbody tr th {\n",
       "        vertical-align: top;\n",
       "    }\n",
       "\n",
       "    .dataframe thead th {\n",
       "        text-align: right;\n",
       "    }\n",
       "</style>\n",
       "<table border=\"1\" class=\"dataframe\">\n",
       "  <thead>\n",
       "    <tr style=\"text-align: right;\">\n",
       "      <th></th>\n",
       "      <th>loan</th>\n",
       "      <th>mortdue</th>\n",
       "      <th>value</th>\n",
       "      <th>yoj</th>\n",
       "      <th>derog</th>\n",
       "      <th>delinq</th>\n",
       "      <th>clage</th>\n",
       "      <th>ninq</th>\n",
       "      <th>clno</th>\n",
       "      <th>debtinc</th>\n",
       "    </tr>\n",
       "    <tr>\n",
       "      <th>bad</th>\n",
       "      <th></th>\n",
       "      <th></th>\n",
       "      <th></th>\n",
       "      <th></th>\n",
       "      <th></th>\n",
       "      <th></th>\n",
       "      <th></th>\n",
       "      <th></th>\n",
       "      <th></th>\n",
       "      <th></th>\n",
       "    </tr>\n",
       "  </thead>\n",
       "  <tbody>\n",
       "    <tr>\n",
       "      <td>0</td>\n",
       "      <td>18931.645127</td>\n",
       "      <td>75242.395117</td>\n",
       "      <td>102394.448489</td>\n",
       "      <td>9.031378</td>\n",
       "      <td>0.140732</td>\n",
       "      <td>0.238263</td>\n",
       "      <td>186.338950</td>\n",
       "      <td>1.032692</td>\n",
       "      <td>21.552536</td>\n",
       "      <td>33.179142</td>\n",
       "    </tr>\n",
       "    <tr>\n",
       "      <td>1</td>\n",
       "      <td>16915.708275</td>\n",
       "      <td>69029.488140</td>\n",
       "      <td>95308.460184</td>\n",
       "      <td>8.067533</td>\n",
       "      <td>0.716012</td>\n",
       "      <td>1.174888</td>\n",
       "      <td>153.497474</td>\n",
       "      <td>1.780089</td>\n",
       "      <td>21.323572</td>\n",
       "      <td>40.881416</td>\n",
       "    </tr>\n",
       "  </tbody>\n",
       "</table>\n",
       "</div>"
      ],
      "text/plain": [
       "             loan       mortdue          value       yoj     derog    delinq  \\\n",
       "bad                                                                            \n",
       "0    18931.645127  75242.395117  102394.448489  9.031378  0.140732  0.238263   \n",
       "1    16915.708275  69029.488140   95308.460184  8.067533  0.716012  1.174888   \n",
       "\n",
       "          clage      ninq       clno    debtinc  \n",
       "bad                                              \n",
       "0    186.338950  1.032692  21.552536  33.179142  \n",
       "1    153.497474  1.780089  21.323572  40.881416  "
      ]
     },
     "execution_count": 7,
     "metadata": {},
     "output_type": "execute_result"
    }
   ],
   "source": [
    "data.groupby('bad').mean()"
   ]
  },
  {
   "cell_type": "markdown",
   "metadata": {},
   "source": [
    "# Yorum : \n",
    "\n",
    "<ul>\n",
    "    <li>Kredisini ödeyenlerin( bad =0) , kredi talep miktarı ortalamasının(loan), kredisini ödemeyenlerin(bad =1) kredi talep miktarı ortalamasından yüksektir. Bu durumda kredisini ödeyebilenler yüksek kredi talebinde bulunmuştur diyebiliriz</li>\n",
    "  <li> Negatif rapor sayıları fazla olan bireylerin (derog) çoğukredisini ödememiştir.</li>\n",
    "    <li> Kredilerini ödeyen bireylerin borç/gelir oranı (debtinc) , kredilerini ödeyemeyen bireylerden daha düşüktür</li>\n",
    "</ul>"
   ]
  },
  {
   "cell_type": "code",
   "execution_count": 8,
   "metadata": {},
   "outputs": [
    {
     "data": {
      "text/html": [
       "<div>\n",
       "<style scoped>\n",
       "    .dataframe tbody tr th:only-of-type {\n",
       "        vertical-align: middle;\n",
       "    }\n",
       "\n",
       "    .dataframe tbody tr th {\n",
       "        vertical-align: top;\n",
       "    }\n",
       "\n",
       "    .dataframe thead th {\n",
       "        text-align: right;\n",
       "    }\n",
       "</style>\n",
       "<table border=\"1\" class=\"dataframe\">\n",
       "  <thead>\n",
       "    <tr style=\"text-align: right;\">\n",
       "      <th></th>\n",
       "      <th>bad</th>\n",
       "      <th>loan</th>\n",
       "      <th>mortdue</th>\n",
       "      <th>value</th>\n",
       "      <th>yoj</th>\n",
       "      <th>derog</th>\n",
       "      <th>delinq</th>\n",
       "      <th>clage</th>\n",
       "      <th>ninq</th>\n",
       "      <th>clno</th>\n",
       "      <th>debtinc</th>\n",
       "    </tr>\n",
       "    <tr>\n",
       "      <th>job</th>\n",
       "      <th></th>\n",
       "      <th></th>\n",
       "      <th></th>\n",
       "      <th></th>\n",
       "      <th></th>\n",
       "      <th></th>\n",
       "      <th></th>\n",
       "      <th></th>\n",
       "      <th></th>\n",
       "      <th></th>\n",
       "      <th></th>\n",
       "    </tr>\n",
       "  </thead>\n",
       "  <tbody>\n",
       "    <tr>\n",
       "      <td>Mgr</td>\n",
       "      <td>0.232104</td>\n",
       "      <td>19084.598698</td>\n",
       "      <td>83964.704189</td>\n",
       "      <td>108464.106133</td>\n",
       "      <td>8.919318</td>\n",
       "      <td>0.320707</td>\n",
       "      <td>0.594203</td>\n",
       "      <td>174.285822</td>\n",
       "      <td>1.517564</td>\n",
       "      <td>23.097561</td>\n",
       "      <td>35.307687</td>\n",
       "    </tr>\n",
       "    <tr>\n",
       "      <td>Office</td>\n",
       "      <td>0.131810</td>\n",
       "      <td>18048.857645</td>\n",
       "      <td>68058.197973</td>\n",
       "      <td>94675.024670</td>\n",
       "      <td>8.103011</td>\n",
       "      <td>0.136905</td>\n",
       "      <td>0.445076</td>\n",
       "      <td>178.784840</td>\n",
       "      <td>0.936803</td>\n",
       "      <td>21.425795</td>\n",
       "      <td>34.158283</td>\n",
       "    </tr>\n",
       "    <tr>\n",
       "      <td>Other</td>\n",
       "      <td>0.232006</td>\n",
       "      <td>18006.918239</td>\n",
       "      <td>60064.432343</td>\n",
       "      <td>84251.694202</td>\n",
       "      <td>9.403457</td>\n",
       "      <td>0.313281</td>\n",
       "      <td>0.417183</td>\n",
       "      <td>174.026556</td>\n",
       "      <td>1.333836</td>\n",
       "      <td>19.572139</td>\n",
       "      <td>34.260072</td>\n",
       "    </tr>\n",
       "    <tr>\n",
       "      <td>ProfEx</td>\n",
       "      <td>0.166884</td>\n",
       "      <td>18750.717080</td>\n",
       "      <td>92690.971376</td>\n",
       "      <td>128851.319683</td>\n",
       "      <td>8.731349</td>\n",
       "      <td>0.203911</td>\n",
       "      <td>0.376871</td>\n",
       "      <td>196.769973</td>\n",
       "      <td>0.949728</td>\n",
       "      <td>24.503989</td>\n",
       "      <td>32.622049</td>\n",
       "    </tr>\n",
       "    <tr>\n",
       "      <td>Sales</td>\n",
       "      <td>0.348485</td>\n",
       "      <td>15251.515152</td>\n",
       "      <td>79856.864407</td>\n",
       "      <td>105960.969231</td>\n",
       "      <td>7.476667</td>\n",
       "      <td>0.450000</td>\n",
       "      <td>0.274194</td>\n",
       "      <td>202.301667</td>\n",
       "      <td>0.772727</td>\n",
       "      <td>24.272727</td>\n",
       "      <td>38.326064</td>\n",
       "    </tr>\n",
       "    <tr>\n",
       "      <td>Self</td>\n",
       "      <td>0.295652</td>\n",
       "      <td>27923.478261</td>\n",
       "      <td>102575.392523</td>\n",
       "      <td>147150.513274</td>\n",
       "      <td>7.210185</td>\n",
       "      <td>0.221239</td>\n",
       "      <td>0.551402</td>\n",
       "      <td>176.590526</td>\n",
       "      <td>1.404040</td>\n",
       "      <td>24.271930</td>\n",
       "      <td>36.824762</td>\n",
       "    </tr>\n",
       "  </tbody>\n",
       "</table>\n",
       "</div>"
      ],
      "text/plain": [
       "             bad          loan        mortdue          value       yoj  \\\n",
       "job                                                                      \n",
       "Mgr     0.232104  19084.598698   83964.704189  108464.106133  8.919318   \n",
       "Office  0.131810  18048.857645   68058.197973   94675.024670  8.103011   \n",
       "Other   0.232006  18006.918239   60064.432343   84251.694202  9.403457   \n",
       "ProfEx  0.166884  18750.717080   92690.971376  128851.319683  8.731349   \n",
       "Sales   0.348485  15251.515152   79856.864407  105960.969231  7.476667   \n",
       "Self    0.295652  27923.478261  102575.392523  147150.513274  7.210185   \n",
       "\n",
       "           derog    delinq       clage      ninq       clno    debtinc  \n",
       "job                                                                     \n",
       "Mgr     0.320707  0.594203  174.285822  1.517564  23.097561  35.307687  \n",
       "Office  0.136905  0.445076  178.784840  0.936803  21.425795  34.158283  \n",
       "Other   0.313281  0.417183  174.026556  1.333836  19.572139  34.260072  \n",
       "ProfEx  0.203911  0.376871  196.769973  0.949728  24.503989  32.622049  \n",
       "Sales   0.450000  0.274194  202.301667  0.772727  24.272727  38.326064  \n",
       "Self    0.221239  0.551402  176.590526  1.404040  24.271930  36.824762  "
      ]
     },
     "execution_count": 8,
     "metadata": {},
     "output_type": "execute_result"
    }
   ],
   "source": [
    "# Kategorik değişkenlerin gruplandırılması\n",
    "\n",
    "data.groupby('job').mean()"
   ]
  },
  {
   "cell_type": "markdown",
   "metadata": {},
   "source": [
    "<ul>\n",
    "    <li>Mesleklere göre kredi talep miktarları değişmektedir.(loan)</li>\n",
    "</ul>"
   ]
  },
  {
   "cell_type": "code",
   "execution_count": 9,
   "metadata": {},
   "outputs": [
    {
     "data": {
      "text/html": [
       "<div>\n",
       "<style scoped>\n",
       "    .dataframe tbody tr th:only-of-type {\n",
       "        vertical-align: middle;\n",
       "    }\n",
       "\n",
       "    .dataframe tbody tr th {\n",
       "        vertical-align: top;\n",
       "    }\n",
       "\n",
       "    .dataframe thead th {\n",
       "        text-align: right;\n",
       "    }\n",
       "</style>\n",
       "<table border=\"1\" class=\"dataframe\">\n",
       "  <thead>\n",
       "    <tr style=\"text-align: right;\">\n",
       "      <th></th>\n",
       "      <th>bad</th>\n",
       "      <th>loan</th>\n",
       "      <th>mortdue</th>\n",
       "      <th>value</th>\n",
       "      <th>yoj</th>\n",
       "      <th>derog</th>\n",
       "      <th>delinq</th>\n",
       "      <th>clage</th>\n",
       "      <th>ninq</th>\n",
       "      <th>clno</th>\n",
       "      <th>debtinc</th>\n",
       "    </tr>\n",
       "    <tr>\n",
       "      <th>reason</th>\n",
       "      <th></th>\n",
       "      <th></th>\n",
       "      <th></th>\n",
       "      <th></th>\n",
       "      <th></th>\n",
       "      <th></th>\n",
       "      <th></th>\n",
       "      <th></th>\n",
       "      <th></th>\n",
       "      <th></th>\n",
       "      <th></th>\n",
       "    </tr>\n",
       "  </thead>\n",
       "  <tbody>\n",
       "    <tr>\n",
       "      <td>DebtCon</td>\n",
       "      <td>0.185576</td>\n",
       "      <td>19868.705188</td>\n",
       "      <td>74483.615277</td>\n",
       "      <td>101611.714495</td>\n",
       "      <td>8.551114</td>\n",
       "      <td>0.261098</td>\n",
       "      <td>0.409427</td>\n",
       "      <td>176.176174</td>\n",
       "      <td>1.343708</td>\n",
       "      <td>22.287742</td>\n",
       "      <td>34.301599</td>\n",
       "    </tr>\n",
       "    <tr>\n",
       "      <td>HomeImp</td>\n",
       "      <td>0.230624</td>\n",
       "      <td>15892.911153</td>\n",
       "      <td>73308.909702</td>\n",
       "      <td>100007.497760</td>\n",
       "      <td>9.411429</td>\n",
       "      <td>0.245596</td>\n",
       "      <td>0.455852</td>\n",
       "      <td>185.208453</td>\n",
       "      <td>0.845361</td>\n",
       "      <td>19.905273</td>\n",
       "      <td>33.496014</td>\n",
       "    </tr>\n",
       "  </tbody>\n",
       "</table>\n",
       "</div>"
      ],
      "text/plain": [
       "              bad          loan       mortdue          value       yoj  \\\n",
       "reason                                                                   \n",
       "DebtCon  0.185576  19868.705188  74483.615277  101611.714495  8.551114   \n",
       "HomeImp  0.230624  15892.911153  73308.909702  100007.497760  9.411429   \n",
       "\n",
       "            derog    delinq       clage      ninq       clno    debtinc  \n",
       "reason                                                                   \n",
       "DebtCon  0.261098  0.409427  176.176174  1.343708  22.287742  34.301599  \n",
       "HomeImp  0.245596  0.455852  185.208453  0.845361  19.905273  33.496014  "
      ]
     },
     "execution_count": 9,
     "metadata": {},
     "output_type": "execute_result"
    }
   ],
   "source": [
    "data.groupby('reason').mean()"
   ]
  },
  {
   "cell_type": "markdown",
   "metadata": {},
   "source": [
    "<ul>\n",
    "    <li>Ev kredisi alanların kredi talep tutarları , borç kredisi alanların kredi talep tutarlarından düşüktür.(loan)</li>\n",
    "</ul>\n"
   ]
  },
  {
   "cell_type": "markdown",
   "metadata": {},
   "source": [
    "# Görselleştime :"
   ]
  },
  {
   "cell_type": "code",
   "execution_count": 10,
   "metadata": {},
   "outputs": [
    {
     "data": {
      "image/png": "[encoded data removed]",
      "text/plain": [
       "<Figure size 432x288 with 1 Axes>"
      ]
     },
     "metadata": {
      "needs_background": "light"
     },
     "output_type": "display_data"
    }
   ],
   "source": [
    "pd.crosstab(data.job,data.bad).plot(kind='bar')\n",
    "plt.title('Mesleklere göre krediyi ödeyip/ödeyememe durumu')\n",
    "plt.xlabel('Meslek')\n",
    "plt.ylabel('Kredi Durum sıklığı')\n",
    "plt.savefig('purchase_fre_job')"
   ]
  },
  {
   "cell_type": "markdown",
   "metadata": {},
   "source": [
    "<ul>\n",
    "    <li>Krediyi ödeyebilme(bad = 0) , büyük ölçüde mesleklere bağlı .Dolayısıyla iş unvanı, sonuç değişkeninin iyi bir öngörücüsü olabilir.</li>\n",
    "    </ul>"
   ]
  },
  {
   "cell_type": "code",
   "execution_count": 11,
   "metadata": {},
   "outputs": [
    {
     "data": {
      "image/png": "[encoded data removed]",
      "text/plain": [
       "<Figure size 432x288 with 1 Axes>"
      ]
     },
     "metadata": {
      "needs_background": "light"
     },
     "output_type": "display_data"
    }
   ],
   "source": [
    "table=pd.crosstab(data.reason,data.bad)\n",
    "table.div(table.sum(1).astype(float), axis=0).plot(kind='bar', stacked=True)\n",
    "plt.title('Sebep ve Kredi Durumu')\n",
    "plt.xlabel('Reason')\n",
    "plt.ylabel('Kredi Durum oranı')\n",
    "plt.savefig('reason_vs_pur_stack')"
   ]
  },
  {
   "cell_type": "markdown",
   "metadata": {},
   "source": [
    "<ul><li>Kredi talep sebebi , y değişkeni için güçlü bir yordayıcı görünmemektedir.</li></ul>"
   ]
  },
  {
   "cell_type": "code",
   "execution_count": 12,
   "metadata": {},
   "outputs": [
    {
     "data": {
      "image/png": "[encoded data removed]",
      "text/plain": [
       "<Figure size 432x288 with 1 Axes>"
      ]
     },
     "metadata": {
      "needs_background": "light"
     },
     "output_type": "display_data"
    }
   ],
   "source": [
    "table=pd.crosstab(data.derog,data.bad)\n",
    "table.div(table.sum(1).astype(float), axis=0).plot(kind='bar', stacked=True)\n",
    "plt.title('derog ve bad')\n",
    "plt.xlabel('Derog')\n",
    "plt.ylabel('BAD')\n",
    "plt.savefig('derog_vs_pur_stack')"
   ]
  },
  {
   "cell_type": "markdown",
   "metadata": {},
   "source": [
    "<ul><li>Negatif raporlara sahip bireylerin kredilerini ödeyip ödeyememelerinde iyi bir öngörücü olabilir</li></ul>"
   ]
  },
  {
   "cell_type": "code",
   "execution_count": 13,
   "metadata": {},
   "outputs": [
    {
     "name": "stdout",
     "output_type": "stream",
     "text": [
      "\u001b[34m------------  Missing Values  -------------\u001b[0m\n"
     ]
    },
    {
     "data": {
      "text/plain": [
       "debtinc    767\n",
       "derog      427\n",
       "delinq     351\n",
       "mortdue    314\n",
       "yoj        312\n",
       "ninq       303\n",
       "clage      179\n",
       "job        167\n",
       "reason     147\n",
       "clno       133\n",
       "value       64\n",
       "loan         0\n",
       "bad          0\n",
       "dtype: int64"
      ]
     },
     "execution_count": 13,
     "metadata": {},
     "output_type": "execute_result"
    }
   ],
   "source": [
    "# Preprocess\n",
    "\n",
    "p = Classes.Preprocess(data)\n",
    "p.get_missing_values()"
   ]
  },
  {
   "cell_type": "code",
   "execution_count": 14,
   "metadata": {},
   "outputs": [
    {
     "name": "stdout",
     "output_type": "stream",
     "text": [
      "\n"
     ]
    },
    {
     "data": {
      "image/png": "[encoded data removed]",
      "text/plain": [
       "<Figure size 864x432 with 2 Axes>"
      ]
     },
     "metadata": {
      "needs_background": "light"
     },
     "output_type": "display_data"
    }
   ],
   "source": [
    "# Visualize Missing Values\n",
    "\n",
    "v = Classes.Visualizer()\n",
    "v.missing_values(data)"
   ]
  },
  {
   "cell_type": "code",
   "execution_count": 15,
   "metadata": {},
   "outputs": [
    {
     "name": "stdout",
     "output_type": "stream",
     "text": [
      "Drop Öncesi Data Shape -->    (3576, 13)\n",
      "Drop Sonrası Data Shape -->    (2018, 13)\n",
      "\u001b[34m------------  Missing Values  -------------\u001b[0m\n"
     ]
    },
    {
     "data": {
      "text/plain": [
       "debtinc    0\n",
       "clno       0\n",
       "ninq       0\n",
       "clage      0\n",
       "delinq     0\n",
       "derog      0\n",
       "yoj        0\n",
       "job        0\n",
       "reason     0\n",
       "value      0\n",
       "mortdue    0\n",
       "loan       0\n",
       "bad        0\n",
       "dtype: int64"
      ]
     },
     "execution_count": 15,
     "metadata": {},
     "output_type": "execute_result"
    }
   ],
   "source": [
    "\n",
    "p.drop('any')"
   ]
  },
  {
   "cell_type": "code",
   "execution_count": 16,
   "metadata": {},
   "outputs": [
    {
     "data": {
      "image/png": "[encoded data removed]",
      "text/plain": [
       "<Figure size 864x432 with 2 Axes>"
      ]
     },
     "metadata": {
      "needs_background": "light"
     },
     "output_type": "display_data"
    }
   ],
   "source": [
    "v.missing_values(data)"
   ]
  },
  {
   "cell_type": "code",
   "execution_count": 17,
   "metadata": {},
   "outputs": [
    {
     "data": {
      "text/html": [
       "<div>\n",
       "<style scoped>\n",
       "    .dataframe tbody tr th:only-of-type {\n",
       "        vertical-align: middle;\n",
       "    }\n",
       "\n",
       "    .dataframe tbody tr th {\n",
       "        vertical-align: top;\n",
       "    }\n",
       "\n",
       "    .dataframe thead th {\n",
       "        text-align: right;\n",
       "    }\n",
       "</style>\n",
       "<table border=\"1\" class=\"dataframe\">\n",
       "  <thead>\n",
       "    <tr style=\"text-align: right;\">\n",
       "      <th></th>\n",
       "      <th>bad</th>\n",
       "      <th>loan</th>\n",
       "      <th>mortdue</th>\n",
       "      <th>value</th>\n",
       "      <th>reason</th>\n",
       "      <th>job</th>\n",
       "      <th>yoj</th>\n",
       "      <th>derog</th>\n",
       "      <th>delinq</th>\n",
       "      <th>clage</th>\n",
       "      <th>ninq</th>\n",
       "      <th>clno</th>\n",
       "      <th>debtinc</th>\n",
       "      <th>HomeImp</th>\n",
       "      <th>Office</th>\n",
       "      <th>Other</th>\n",
       "      <th>ProfEx</th>\n",
       "      <th>Sales</th>\n",
       "      <th>Self</th>\n",
       "    </tr>\n",
       "  </thead>\n",
       "  <tbody>\n",
       "    <tr>\n",
       "      <td>153</td>\n",
       "      <td>0</td>\n",
       "      <td>18200</td>\n",
       "      <td>94727.0</td>\n",
       "      <td>136877.0</td>\n",
       "      <td>DebtCon</td>\n",
       "      <td>Mgr</td>\n",
       "      <td>15.0</td>\n",
       "      <td>0.0</td>\n",
       "      <td>0.0</td>\n",
       "      <td>168.96</td>\n",
       "      <td>2.0</td>\n",
       "      <td>26.0</td>\n",
       "      <td>36.056</td>\n",
       "      <td>0</td>\n",
       "      <td>0</td>\n",
       "      <td>0</td>\n",
       "      <td>0</td>\n",
       "      <td>0</td>\n",
       "      <td>0</td>\n",
       "    </tr>\n",
       "    <tr>\n",
       "      <td>154</td>\n",
       "      <td>0</td>\n",
       "      <td>21700</td>\n",
       "      <td>79240.0</td>\n",
       "      <td>96784.0</td>\n",
       "      <td>DebtCon</td>\n",
       "      <td>Mgr</td>\n",
       "      <td>5.0</td>\n",
       "      <td>0.0</td>\n",
       "      <td>0.0</td>\n",
       "      <td>64.51</td>\n",
       "      <td>6.0</td>\n",
       "      <td>24.0</td>\n",
       "      <td>38.079</td>\n",
       "      <td>0</td>\n",
       "      <td>0</td>\n",
       "      <td>0</td>\n",
       "      <td>0</td>\n",
       "      <td>0</td>\n",
       "      <td>0</td>\n",
       "    </tr>\n",
       "    <tr>\n",
       "      <td>155</td>\n",
       "      <td>0</td>\n",
       "      <td>34100</td>\n",
       "      <td>241931.0</td>\n",
       "      <td>36486.0</td>\n",
       "      <td>DebtCon</td>\n",
       "      <td>Mgr</td>\n",
       "      <td>1.0</td>\n",
       "      <td>0.0</td>\n",
       "      <td>2.0</td>\n",
       "      <td>196.01</td>\n",
       "      <td>3.0</td>\n",
       "      <td>50.0</td>\n",
       "      <td>42.459</td>\n",
       "      <td>0</td>\n",
       "      <td>0</td>\n",
       "      <td>0</td>\n",
       "      <td>0</td>\n",
       "      <td>0</td>\n",
       "      <td>0</td>\n",
       "    </tr>\n",
       "    <tr>\n",
       "      <td>156</td>\n",
       "      <td>0</td>\n",
       "      <td>8400</td>\n",
       "      <td>62989.0</td>\n",
       "      <td>76718.0</td>\n",
       "      <td>HomeImp</td>\n",
       "      <td>Mgr</td>\n",
       "      <td>3.0</td>\n",
       "      <td>0.0</td>\n",
       "      <td>2.0</td>\n",
       "      <td>131.47</td>\n",
       "      <td>0.0</td>\n",
       "      <td>22.0</td>\n",
       "      <td>29.200</td>\n",
       "      <td>1</td>\n",
       "      <td>0</td>\n",
       "      <td>0</td>\n",
       "      <td>0</td>\n",
       "      <td>0</td>\n",
       "      <td>0</td>\n",
       "    </tr>\n",
       "    <tr>\n",
       "      <td>157</td>\n",
       "      <td>0</td>\n",
       "      <td>17400</td>\n",
       "      <td>25859.0</td>\n",
       "      <td>43684.0</td>\n",
       "      <td>DebtCon</td>\n",
       "      <td>Mgr</td>\n",
       "      <td>16.0</td>\n",
       "      <td>1.0</td>\n",
       "      <td>0.0</td>\n",
       "      <td>95.36</td>\n",
       "      <td>1.0</td>\n",
       "      <td>17.0</td>\n",
       "      <td>27.108</td>\n",
       "      <td>0</td>\n",
       "      <td>0</td>\n",
       "      <td>0</td>\n",
       "      <td>0</td>\n",
       "      <td>0</td>\n",
       "      <td>0</td>\n",
       "    </tr>\n",
       "  </tbody>\n",
       "</table>\n",
       "</div>"
      ],
      "text/plain": [
       "     bad   loan   mortdue     value   reason  job   yoj  derog  delinq  \\\n",
       "153    0  18200   94727.0  136877.0  DebtCon  Mgr  15.0    0.0     0.0   \n",
       "154    0  21700   79240.0   96784.0  DebtCon  Mgr   5.0    0.0     0.0   \n",
       "155    0  34100  241931.0   36486.0  DebtCon  Mgr   1.0    0.0     2.0   \n",
       "156    0   8400   62989.0   76718.0  HomeImp  Mgr   3.0    0.0     2.0   \n",
       "157    0  17400   25859.0   43684.0  DebtCon  Mgr  16.0    1.0     0.0   \n",
       "\n",
       "      clage  ninq  clno  debtinc  HomeImp  Office  Other  ProfEx  Sales  Self  \n",
       "153  168.96   2.0  26.0   36.056        0       0      0       0      0     0  \n",
       "154   64.51   6.0  24.0   38.079        0       0      0       0      0     0  \n",
       "155  196.01   3.0  50.0   42.459        0       0      0       0      0     0  \n",
       "156  131.47   0.0  22.0   29.200        1       0      0       0      0     0  \n",
       "157   95.36   1.0  17.0   27.108        0       0      0       0      0     0  "
      ]
     },
     "execution_count": 17,
     "metadata": {},
     "output_type": "execute_result"
    }
   ],
   "source": [
    "# DUMMIES\n",
    "\n",
    "HomeImp = pd.get_dummies(data['reason'], drop_first =True)\n",
    "jobs = pd.get_dummies(data['job'], drop_first =True)\n",
    "data=pd.concat([data,HomeImp,jobs],axis=1)\n",
    "data.head()"
   ]
  },
  {
   "cell_type": "code",
   "execution_count": 18,
   "metadata": {},
   "outputs": [
    {
     "data": {
      "text/html": [
       "<div>\n",
       "<style scoped>\n",
       "    .dataframe tbody tr th:only-of-type {\n",
       "        vertical-align: middle;\n",
       "    }\n",
       "\n",
       "    .dataframe tbody tr th {\n",
       "        vertical-align: top;\n",
       "    }\n",
       "\n",
       "    .dataframe thead th {\n",
       "        text-align: right;\n",
       "    }\n",
       "</style>\n",
       "<table border=\"1\" class=\"dataframe\">\n",
       "  <thead>\n",
       "    <tr style=\"text-align: right;\">\n",
       "      <th></th>\n",
       "      <th>bad</th>\n",
       "      <th>loan</th>\n",
       "      <th>mortdue</th>\n",
       "      <th>value</th>\n",
       "      <th>yoj</th>\n",
       "      <th>derog</th>\n",
       "      <th>delinq</th>\n",
       "      <th>clage</th>\n",
       "      <th>ninq</th>\n",
       "      <th>clno</th>\n",
       "      <th>debtinc</th>\n",
       "      <th>HomeImp</th>\n",
       "      <th>Office</th>\n",
       "      <th>Other</th>\n",
       "      <th>ProfEx</th>\n",
       "      <th>Sales</th>\n",
       "      <th>Self</th>\n",
       "    </tr>\n",
       "  </thead>\n",
       "  <tbody>\n",
       "    <tr>\n",
       "      <td>153</td>\n",
       "      <td>0</td>\n",
       "      <td>18200</td>\n",
       "      <td>94727.0</td>\n",
       "      <td>136877.0</td>\n",
       "      <td>15.0</td>\n",
       "      <td>0.0</td>\n",
       "      <td>0.0</td>\n",
       "      <td>168.96</td>\n",
       "      <td>2.0</td>\n",
       "      <td>26.0</td>\n",
       "      <td>36.056</td>\n",
       "      <td>0</td>\n",
       "      <td>0</td>\n",
       "      <td>0</td>\n",
       "      <td>0</td>\n",
       "      <td>0</td>\n",
       "      <td>0</td>\n",
       "    </tr>\n",
       "    <tr>\n",
       "      <td>154</td>\n",
       "      <td>0</td>\n",
       "      <td>21700</td>\n",
       "      <td>79240.0</td>\n",
       "      <td>96784.0</td>\n",
       "      <td>5.0</td>\n",
       "      <td>0.0</td>\n",
       "      <td>0.0</td>\n",
       "      <td>64.51</td>\n",
       "      <td>6.0</td>\n",
       "      <td>24.0</td>\n",
       "      <td>38.079</td>\n",
       "      <td>0</td>\n",
       "      <td>0</td>\n",
       "      <td>0</td>\n",
       "      <td>0</td>\n",
       "      <td>0</td>\n",
       "      <td>0</td>\n",
       "    </tr>\n",
       "    <tr>\n",
       "      <td>155</td>\n",
       "      <td>0</td>\n",
       "      <td>34100</td>\n",
       "      <td>241931.0</td>\n",
       "      <td>36486.0</td>\n",
       "      <td>1.0</td>\n",
       "      <td>0.0</td>\n",
       "      <td>2.0</td>\n",
       "      <td>196.01</td>\n",
       "      <td>3.0</td>\n",
       "      <td>50.0</td>\n",
       "      <td>42.459</td>\n",
       "      <td>0</td>\n",
       "      <td>0</td>\n",
       "      <td>0</td>\n",
       "      <td>0</td>\n",
       "      <td>0</td>\n",
       "      <td>0</td>\n",
       "    </tr>\n",
       "    <tr>\n",
       "      <td>156</td>\n",
       "      <td>0</td>\n",
       "      <td>8400</td>\n",
       "      <td>62989.0</td>\n",
       "      <td>76718.0</td>\n",
       "      <td>3.0</td>\n",
       "      <td>0.0</td>\n",
       "      <td>2.0</td>\n",
       "      <td>131.47</td>\n",
       "      <td>0.0</td>\n",
       "      <td>22.0</td>\n",
       "      <td>29.200</td>\n",
       "      <td>1</td>\n",
       "      <td>0</td>\n",
       "      <td>0</td>\n",
       "      <td>0</td>\n",
       "      <td>0</td>\n",
       "      <td>0</td>\n",
       "    </tr>\n",
       "    <tr>\n",
       "      <td>157</td>\n",
       "      <td>0</td>\n",
       "      <td>17400</td>\n",
       "      <td>25859.0</td>\n",
       "      <td>43684.0</td>\n",
       "      <td>16.0</td>\n",
       "      <td>1.0</td>\n",
       "      <td>0.0</td>\n",
       "      <td>95.36</td>\n",
       "      <td>1.0</td>\n",
       "      <td>17.0</td>\n",
       "      <td>27.108</td>\n",
       "      <td>0</td>\n",
       "      <td>0</td>\n",
       "      <td>0</td>\n",
       "      <td>0</td>\n",
       "      <td>0</td>\n",
       "      <td>0</td>\n",
       "    </tr>\n",
       "  </tbody>\n",
       "</table>\n",
       "</div>"
      ],
      "text/plain": [
       "     bad   loan   mortdue     value   yoj  derog  delinq   clage  ninq  clno  \\\n",
       "153    0  18200   94727.0  136877.0  15.0    0.0     0.0  168.96   2.0  26.0   \n",
       "154    0  21700   79240.0   96784.0   5.0    0.0     0.0   64.51   6.0  24.0   \n",
       "155    0  34100  241931.0   36486.0   1.0    0.0     2.0  196.01   3.0  50.0   \n",
       "156    0   8400   62989.0   76718.0   3.0    0.0     2.0  131.47   0.0  22.0   \n",
       "157    0  17400   25859.0   43684.0  16.0    1.0     0.0   95.36   1.0  17.0   \n",
       "\n",
       "     debtinc  HomeImp  Office  Other  ProfEx  Sales  Self  \n",
       "153   36.056        0       0      0       0      0     0  \n",
       "154   38.079        0       0      0       0      0     0  \n",
       "155   42.459        0       0      0       0      0     0  \n",
       "156   29.200        1       0      0       0      0     0  \n",
       "157   27.108        0       0      0       0      0     0  "
      ]
     },
     "execution_count": 18,
     "metadata": {},
     "output_type": "execute_result"
    }
   ],
   "source": [
    "data.drop(['reason','job'],axis =1,inplace=True)\n",
    "data.head()"
   ]
  },
  {
   "cell_type": "code",
   "execution_count": 19,
   "metadata": {},
   "outputs": [
    {
     "data": {
      "image/png": "[encoded data removed]",
      "text/plain": [
       "<Figure size 432x288 with 1 Axes>"
      ]
     },
     "metadata": {
      "needs_background": "light"
     },
     "output_type": "display_data"
    }
   ],
   "source": [
    "sns.countplot(x = 'bad', data = data)\n",
    "plt.show()"
   ]
  },
  {
   "cell_type": "markdown",
   "metadata": {},
   "source": [
    "# SMOTE"
   ]
  },
  {
   "cell_type": "code",
   "execution_count": 20,
   "metadata": {},
   "outputs": [],
   "source": [
    "X = data.loc[:, data.columns != 'bad']\n",
    "y = data.loc[:, data.columns == 'bad']\n"
   ]
  },
  {
   "cell_type": "code",
   "execution_count": 21,
   "metadata": {},
   "outputs": [],
   "source": [
    "os_data_X, os_data_y = p.SMOTE(X,y)"
   ]
  },
  {
   "cell_type": "code",
   "execution_count": 22,
   "metadata": {},
   "outputs": [
    {
     "name": "stdout",
     "output_type": "stream",
     "text": [
      "oversampled verilerin uzunluğu  2574\n",
      "Y değişkeni  0  : 1287\n",
      "Y değişkeni  1  : 1287\n"
     ]
    }
   ],
   "source": [
    "print(\"oversampled verilerin uzunluğu \",len(os_data_X))\n",
    "print(\"Y değişkeni  0  :\",len(os_data_y[os_data_y['bad']==0]))\n",
    "print(\"Y değişkeni  1  :\",len(os_data_y[os_data_y['bad']==1]))\n"
   ]
  },
  {
   "cell_type": "markdown",
   "metadata": {},
   "source": [
    "# Logistic Regression Model"
   ]
  },
  {
   "cell_type": "code",
   "execution_count": 23,
   "metadata": {},
   "outputs": [
    {
     "name": "stdout",
     "output_type": "stream",
     "text": [
      "Grid Search Helper\n",
      "\u001b[34m------------------     STATS  MODELS  --------------------\n",
      "\u001b[0m\n",
      "Optimization terminated successfully.\n",
      "         Current function value: 0.538330\n",
      "         Iterations 7\n",
      "                           Logit Regression Results                           \n",
      "==============================================================================\n",
      "Dep. Variable:                    bad   No. Observations:                 2574\n",
      "Model:                          Logit   Df Residuals:                     2558\n",
      "Method:                           MLE   Df Model:                           15\n",
      "Date:                Thu, 06 Aug 2020   Pseudo R-squ.:                  0.2234\n",
      "Time:                        17:07:17   Log-Likelihood:                -1385.7\n",
      "converged:                       True   LL-Null:                       -1784.2\n",
      "Covariance Type:            nonrobust   LLR p-value:                3.732e-160\n",
      "==============================================================================\n",
      "                 coef    std err          z      P>|z|      [0.025      0.975]\n",
      "------------------------------------------------------------------------------\n",
      "loan       -1.291e-05   5.59e-06     -2.309      0.021   -2.39e-05   -1.95e-06\n",
      "mortdue    -7.179e-07   2.71e-06     -0.264      0.791   -6.04e-06     4.6e-06\n",
      "value       1.086e-06   2.28e-06      0.476      0.634   -3.39e-06    5.56e-06\n",
      "yoj           -0.0410      0.007     -5.622      0.000      -0.055      -0.027\n",
      "derog          0.6062      0.090      6.742      0.000       0.430       0.782\n",
      "delinq         1.0166      0.077     13.151      0.000       0.865       1.168\n",
      "clage         -0.0047      0.001     -7.387      0.000      -0.006      -0.003\n",
      "ninq           0.2003      0.033      5.991      0.000       0.135       0.266\n",
      "clno          -0.0363      0.006     -6.349      0.000      -0.047      -0.025\n",
      "debtinc        0.0479      0.004     11.122      0.000       0.039       0.056\n",
      "HomeImp       -0.2302      0.115     -2.002      0.045      -0.456      -0.005\n",
      "Office        -1.0009      0.179     -5.600      0.000      -1.351      -0.651\n",
      "Other         -0.3617      0.137     -2.634      0.008      -0.631      -0.093\n",
      "ProfEx        -0.3326      0.160     -2.078      0.038      -0.646      -0.019\n",
      "Sales          0.9157      0.376      2.434      0.015       0.178       1.653\n",
      "Self           0.4353      0.335      1.298      0.194      -0.222       1.093\n",
      "==============================================================================\n",
      "\n",
      "\u001b[34m------------------     SCIKIT LEARN MODEL  --------------------\n",
      "\u001b[0m\n",
      "\u001b[31mIntercept :  \u001b[0m [-0.36524632]\n",
      "\n",
      "\u001b[31mCoefficient  : \u001b[0m [[-1.11297114e-05  3.84759933e-07  5.71598274e-07 -4.25266309e-02\n",
      "   6.58148234e-01  1.02746457e+00 -4.56320793e-03  1.94418147e-01\n",
      "  -3.38400204e-02  4.73588658e-02 -1.72856182e-01 -4.49158818e-01\n",
      "  -7.45860071e-02 -7.06819214e-02  1.55828665e-01  9.08299959e-02]]\n",
      "\n",
      "\u001b[34m-------------- CONFUSION MATRIS  --------------------\n",
      "\u001b[0m\n",
      "\n"
     ]
    },
    {
     "data": {
      "image/png": "[encoded data removed]",
      "text/plain": [
       "<Figure size 360x360 with 1 Axes>"
      ]
     },
     "metadata": {
      "needs_background": "light"
     },
     "output_type": "display_data"
    },
    {
     "name": "stdout",
     "output_type": "stream",
     "text": [
      "\u001b[31mAccuracy  Score :  \u001b[0m 0.7272727272727273\n",
      "\u001b[31mClassification Report  : \u001b[0m\n",
      "              precision    recall  f1-score   support\n",
      "\n",
      "           0       0.71      0.76      0.74      1287\n",
      "           1       0.74      0.69      0.72      1287\n",
      "\n",
      "    accuracy                           0.73      2574\n",
      "   macro avg       0.73      0.73      0.73      2574\n",
      "weighted avg       0.73      0.73      0.73      2574\n",
      "\n",
      "\u001b[34m-------------- ROC CURVE  --------------------\n",
      "\u001b[0m\n"
     ]
    },
    {
     "data": {
      "image/png": "[encoded data removed]",
      "text/plain": [
       "<Figure size 432x288 with 1 Axes>"
      ]
     },
     "metadata": {
      "needs_background": "light"
     },
     "output_type": "display_data"
    },
    {
     "name": "stdout",
     "output_type": "stream",
     "text": [
      "\u001b[34m-------------- TRAIN - TEST SPLIT  --------------------\n",
      "\u001b[0m\n",
      "\u001b[31mAccuracy  Score  : \u001b[0m 0.7533980582524272\n",
      "\u001b[31mClassification Report  : \u001b[0m\n",
      "              precision    recall  f1-score   support\n",
      "\n",
      "           0       0.75      0.78      0.76       263\n",
      "           1       0.76      0.72      0.74       252\n",
      "\n",
      "    accuracy                           0.75       515\n",
      "   macro avg       0.75      0.75      0.75       515\n",
      "weighted avg       0.75      0.75      0.75       515\n",
      "\n",
      "\u001b[31mCross Validation Score  :  \u001b[0m 0.7087445573294631\n"
     ]
    }
   ],
   "source": [
    "model = Classes.GridSearchHelper()\n",
    "model.LogReg(os_data_X, os_data_y)"
   ]
  },
  {
   "cell_type": "code",
   "execution_count": 24,
   "metadata": {},
   "outputs": [],
   "source": [
    "os_data_X.drop(['mortdue'],axis =1,inplace=True)"
   ]
  },
  {
   "cell_type": "code",
   "execution_count": 25,
   "metadata": {},
   "outputs": [
    {
     "name": "stdout",
     "output_type": "stream",
     "text": [
      "\u001b[34m------------------     STATS  MODELS  --------------------\n",
      "\u001b[0m\n",
      "Optimization terminated successfully.\n",
      "         Current function value: 0.538344\n",
      "         Iterations 7\n",
      "                           Logit Regression Results                           \n",
      "==============================================================================\n",
      "Dep. Variable:                    bad   No. Observations:                 2574\n",
      "Model:                          Logit   Df Residuals:                     2559\n",
      "Method:                           MLE   Df Model:                           14\n",
      "Date:                Thu, 06 Aug 2020   Pseudo R-squ.:                  0.2233\n",
      "Time:                        17:07:19   Log-Likelihood:                -1385.7\n",
      "converged:                       True   LL-Null:                       -1784.2\n",
      "Covariance Type:            nonrobust   LLR p-value:                5.021e-161\n",
      "==============================================================================\n",
      "                 coef    std err          z      P>|z|      [0.025      0.975]\n",
      "------------------------------------------------------------------------------\n",
      "loan       -1.269e-05   5.53e-06     -2.295      0.022   -2.35e-05   -1.85e-06\n",
      "value       5.379e-07   9.63e-07      0.559      0.576   -1.35e-06    2.43e-06\n",
      "yoj           -0.0407      0.007     -5.645      0.000      -0.055      -0.027\n",
      "derog          0.6085      0.090      6.794      0.000       0.433       0.784\n",
      "delinq         1.0161      0.077     13.163      0.000       0.865       1.167\n",
      "clage         -0.0047      0.001     -7.416      0.000      -0.006      -0.003\n",
      "ninq           0.2000      0.033      5.987      0.000       0.135       0.266\n",
      "clno          -0.0367      0.005     -6.715      0.000      -0.047      -0.026\n",
      "debtinc        0.0479      0.004     11.137      0.000       0.039       0.056\n",
      "HomeImp       -0.2302      0.115     -2.002      0.045      -0.456      -0.005\n",
      "Office        -0.9953      0.177     -5.609      0.000      -1.343      -0.648\n",
      "Other         -0.3557      0.135     -2.626      0.009      -0.621      -0.090\n",
      "ProfEx        -0.3262      0.158     -2.062      0.039      -0.636      -0.016\n",
      "Sales          0.9218      0.376      2.454      0.014       0.186       1.658\n",
      "Self           0.4397      0.335      1.311      0.190      -0.218       1.097\n",
      "==============================================================================\n",
      "\n",
      "\u001b[34m------------------     SCIKIT LEARN MODEL  --------------------\n",
      "\u001b[0m\n",
      "\u001b[31mIntercept :  \u001b[0m [-0.34711364]\n",
      "\n",
      "\u001b[31mCoefficient  : \u001b[0m [[-1.10194096e-05  8.87283437e-07 -4.30194343e-02  6.55123450e-01\n",
      "   1.03176773e+00 -4.59750542e-03  1.93181587e-01 -3.41064810e-02\n",
      "   4.69537201e-02 -1.65105973e-01 -4.30320286e-01 -7.04324461e-02\n",
      "  -6.74941929e-02  1.48022403e-01  8.55713567e-02]]\n",
      "\n",
      "\u001b[34m-------------- CONFUSION MATRIS  --------------------\n",
      "\u001b[0m\n",
      "\n"
     ]
    },
    {
     "data": {
      "image/png": "[encoded data removed]",
      "text/plain": [
       "<Figure size 360x360 with 1 Axes>"
      ]
     },
     "metadata": {
      "needs_background": "light"
     },
     "output_type": "display_data"
    },
    {
     "name": "stdout",
     "output_type": "stream",
     "text": [
      "\u001b[31mAccuracy  Score :  \u001b[0m 0.7272727272727273\n",
      "\u001b[31mClassification Report  : \u001b[0m\n",
      "              precision    recall  f1-score   support\n",
      "\n",
      "           0       0.71      0.76      0.74      1287\n",
      "           1       0.74      0.69      0.72      1287\n",
      "\n",
      "    accuracy                           0.73      2574\n",
      "   macro avg       0.73      0.73      0.73      2574\n",
      "weighted avg       0.73      0.73      0.73      2574\n",
      "\n",
      "\u001b[34m-------------- ROC CURVE  --------------------\n",
      "\u001b[0m\n"
     ]
    },
    {
     "data": {
      "image/png": "[encoded data removed]",
      "text/plain": [
       "<Figure size 432x288 with 1 Axes>"
      ]
     },
     "metadata": {
      "needs_background": "light"
     },
     "output_type": "display_data"
    },
    {
     "name": "stdout",
     "output_type": "stream",
     "text": [
      "\u001b[34m-------------- TRAIN - TEST SPLIT  --------------------\n",
      "\u001b[0m\n",
      "\u001b[31mAccuracy  Score  : \u001b[0m 0.7572815533980582\n",
      "\u001b[31mClassification Report  : \u001b[0m\n",
      "              precision    recall  f1-score   support\n",
      "\n",
      "           0       0.75      0.79      0.77       263\n",
      "           1       0.77      0.73      0.75       252\n",
      "\n",
      "    accuracy                           0.76       515\n",
      "   macro avg       0.76      0.76      0.76       515\n",
      "weighted avg       0.76      0.76      0.76       515\n",
      "\n",
      "\u001b[31mCross Validation Score  :  \u001b[0m 0.7186224707589858\n"
     ]
    }
   ],
   "source": [
    "model.LogReg(os_data_X, os_data_y)"
   ]
  },
  {
   "cell_type": "code",
   "execution_count": 26,
   "metadata": {
    "scrolled": false
   },
   "outputs": [
    {
     "name": "stdout",
     "output_type": "stream",
     "text": [
      "\u001b[34m------------------     STATS  MODELS  --------------------\n",
      "\u001b[0m\n",
      "Optimization terminated successfully.\n",
      "         Current function value: 0.538404\n",
      "         Iterations 7\n",
      "                           Logit Regression Results                           \n",
      "==============================================================================\n",
      "Dep. Variable:                    bad   No. Observations:                 2574\n",
      "Model:                          Logit   Df Residuals:                     2560\n",
      "Method:                           MLE   Df Model:                           13\n",
      "Date:                Thu, 06 Aug 2020   Pseudo R-squ.:                  0.2232\n",
      "Time:                        17:07:20   Log-Likelihood:                -1385.9\n",
      "converged:                       True   LL-Null:                       -1784.2\n",
      "Covariance Type:            nonrobust   LLR p-value:                7.327e-162\n",
      "==============================================================================\n",
      "                 coef    std err          z      P>|z|      [0.025      0.975]\n",
      "------------------------------------------------------------------------------\n",
      "loan       -1.118e-05   4.79e-06     -2.333      0.020   -2.06e-05   -1.79e-06\n",
      "yoj           -0.0407      0.007     -5.638      0.000      -0.055      -0.027\n",
      "derog          0.6067      0.090      6.769      0.000       0.431       0.782\n",
      "delinq         1.0142      0.077     13.163      0.000       0.863       1.165\n",
      "clage         -0.0046      0.001     -7.402      0.000      -0.006      -0.003\n",
      "ninq           0.1992      0.033      5.973      0.000       0.134       0.265\n",
      "clno          -0.0365      0.005     -6.686      0.000      -0.047      -0.026\n",
      "debtinc        0.0484      0.004     11.567      0.000       0.040       0.057\n",
      "HomeImp       -0.2247      0.114     -1.963      0.050      -0.449      -0.000\n",
      "Office        -1.0001      0.177     -5.641      0.000      -1.347      -0.653\n",
      "Other         -0.3662      0.134     -2.728      0.006      -0.629      -0.103\n",
      "ProfEx        -0.3158      0.157     -2.010      0.044      -0.624      -0.008\n",
      "Sales          0.9184      0.376      2.442      0.015       0.181       1.656\n",
      "Self           0.4528      0.334      1.355      0.176      -0.202       1.108\n",
      "==============================================================================\n",
      "\n",
      "\u001b[34m------------------     SCIKIT LEARN MODEL  --------------------\n",
      "\u001b[0m\n",
      "\u001b[31mIntercept :  \u001b[0m [-1.06255735]\n",
      "\n",
      "\u001b[31mCoefficient  : \u001b[0m [[-8.25118133e-06 -3.67089516e-02  5.97801636e-01  1.01600709e+00\n",
      "  -3.73983150e-03  1.93393480e-01 -3.10945626e-02  6.44317394e-02\n",
      "  -1.15235969e-01 -9.21516492e-01 -2.12524573e-01 -2.18152468e-01\n",
      "   5.31120434e-01  3.05894704e-01]]\n",
      "\n",
      "\u001b[34m-------------- CONFUSION MATRIS  --------------------\n",
      "\u001b[0m\n",
      "\n"
     ]
    },
    {
     "data": {
      "image/png": "[encoded data removed]",
      "text/plain": [
       "<Figure size 360x360 with 1 Axes>"
      ]
     },
     "metadata": {
      "needs_background": "light"
     },
     "output_type": "display_data"
    },
    {
     "name": "stdout",
     "output_type": "stream",
     "text": [
      "\u001b[31mAccuracy  Score :  \u001b[0m 0.7195027195027195\n",
      "\u001b[31mClassification Report  : \u001b[0m\n",
      "              precision    recall  f1-score   support\n",
      "\n",
      "           0       0.70      0.77      0.73      1287\n",
      "           1       0.75      0.67      0.70      1287\n",
      "\n",
      "    accuracy                           0.72      2574\n",
      "   macro avg       0.72      0.72      0.72      2574\n",
      "weighted avg       0.72      0.72      0.72      2574\n",
      "\n",
      "\u001b[34m-------------- ROC CURVE  --------------------\n",
      "\u001b[0m\n"
     ]
    },
    {
     "data": {
      "image/png": "[encoded data removed]",
      "text/plain": [
       "<Figure size 432x288 with 1 Axes>"
      ]
     },
     "metadata": {
      "needs_background": "light"
     },
     "output_type": "display_data"
    },
    {
     "name": "stdout",
     "output_type": "stream",
     "text": [
      "\u001b[34m-------------- TRAIN - TEST SPLIT  --------------------\n",
      "\u001b[0m\n",
      "\u001b[31mAccuracy  Score  : \u001b[0m 0.7339805825242719\n",
      "\u001b[31mClassification Report  : \u001b[0m\n",
      "              precision    recall  f1-score   support\n",
      "\n",
      "           0       0.71      0.81      0.76       263\n",
      "           1       0.76      0.66      0.71       252\n",
      "\n",
      "    accuracy                           0.73       515\n",
      "   macro avg       0.74      0.73      0.73       515\n",
      "weighted avg       0.74      0.73      0.73       515\n",
      "\n",
      "\u001b[31mCross Validation Score  :  \u001b[0m 0.7144775036284471\n"
     ]
    }
   ],
   "source": [
    "os_data_X.drop(['value'],axis =1,inplace=True)\n",
    "model.LogReg(os_data_X, os_data_y)"
   ]
  },
  {
   "cell_type": "code",
   "execution_count": 27,
   "metadata": {},
   "outputs": [
    {
     "name": "stdout",
     "output_type": "stream",
     "text": [
      "\u001b[34m------------------     STATS  MODELS  --------------------\n",
      "\u001b[0m\n",
      "Optimization terminated successfully.\n",
      "         Current function value: 0.538760\n",
      "         Iterations 7\n",
      "                           Logit Regression Results                           \n",
      "==============================================================================\n",
      "Dep. Variable:                    bad   No. Observations:                 2574\n",
      "Model:                          Logit   Df Residuals:                     2561\n",
      "Method:                           MLE   Df Model:                           12\n",
      "Date:                Thu, 06 Aug 2020   Pseudo R-squ.:                  0.2227\n",
      "Time:                        17:07:22   Log-Likelihood:                -1386.8\n",
      "converged:                       True   LL-Null:                       -1784.2\n",
      "Covariance Type:            nonrobust   LLR p-value:                2.173e-162\n",
      "==============================================================================\n",
      "                 coef    std err          z      P>|z|      [0.025      0.975]\n",
      "------------------------------------------------------------------------------\n",
      "loan       -9.726e-06   4.65e-06     -2.090      0.037   -1.88e-05   -6.05e-07\n",
      "yoj           -0.0416      0.007     -5.799      0.000      -0.056      -0.028\n",
      "derog          0.6027      0.090      6.730      0.000       0.427       0.778\n",
      "delinq         1.0108      0.077     13.119      0.000       0.860       1.162\n",
      "clage         -0.0046      0.001     -7.333      0.000      -0.006      -0.003\n",
      "ninq           0.1963      0.033      5.908      0.000       0.131       0.261\n",
      "clno          -0.0351      0.005     -6.558      0.000      -0.046      -0.025\n",
      "debtinc        0.0485      0.004     11.569      0.000       0.040       0.057\n",
      "HomeImp       -0.1994      0.113     -1.767      0.077      -0.421       0.022\n",
      "Office        -1.0603      0.172     -6.177      0.000      -1.397      -0.724\n",
      "Other         -0.4223      0.128     -3.306      0.001      -0.673      -0.172\n",
      "ProfEx        -0.3893      0.147     -2.640      0.008      -0.678      -0.100\n",
      "Sales          0.8531      0.372      2.293      0.022       0.124       1.582\n",
      "==============================================================================\n",
      "\n",
      "\u001b[34m------------------     SCIKIT LEARN MODEL  --------------------\n",
      "\u001b[0m\n",
      "\u001b[31mIntercept :  \u001b[0m [-1.40743316]\n",
      "\n",
      "\u001b[31mCoefficient  : \u001b[0m [[-6.09585021e-06 -3.66509157e-02  5.82038666e-01  1.02224730e+00\n",
      "  -3.62468009e-03  1.98369560e-01 -2.99773040e-02  6.84634726e-02\n",
      "  -9.94381578e-02 -7.94518089e-01 -8.94158529e-02 -7.90664639e-02\n",
      "   9.46153246e-01]]\n",
      "\n",
      "\u001b[34m-------------- CONFUSION MATRIS  --------------------\n",
      "\u001b[0m\n",
      "\n"
     ]
    },
    {
     "data": {
      "image/png": "[encoded data removed]",
      "text/plain": [
       "<Figure size 360x360 with 1 Axes>"
      ]
     },
     "metadata": {
      "needs_background": "light"
     },
     "output_type": "display_data"
    },
    {
     "name": "stdout",
     "output_type": "stream",
     "text": [
      "\u001b[31mAccuracy  Score :  \u001b[0m 0.7121212121212122\n",
      "\u001b[31mClassification Report  : \u001b[0m\n",
      "              precision    recall  f1-score   support\n",
      "\n",
      "           0       0.69      0.77      0.73      1287\n",
      "           1       0.74      0.65      0.69      1287\n",
      "\n",
      "    accuracy                           0.71      2574\n",
      "   macro avg       0.72      0.71      0.71      2574\n",
      "weighted avg       0.72      0.71      0.71      2574\n",
      "\n",
      "\u001b[34m-------------- ROC CURVE  --------------------\n",
      "\u001b[0m\n"
     ]
    },
    {
     "data": {
      "image/png": "[encoded data removed]",
      "text/plain": [
       "<Figure size 432x288 with 1 Axes>"
      ]
     },
     "metadata": {
      "needs_background": "light"
     },
     "output_type": "display_data"
    },
    {
     "name": "stdout",
     "output_type": "stream",
     "text": [
      "\u001b[34m-------------- TRAIN - TEST SPLIT  --------------------\n",
      "\u001b[0m\n",
      "\u001b[31mAccuracy  Score  : \u001b[0m 0.7378640776699029\n",
      "\u001b[31mClassification Report  : \u001b[0m\n",
      "              precision    recall  f1-score   support\n",
      "\n",
      "           0       0.71      0.81      0.76       263\n",
      "           1       0.77      0.66      0.71       252\n",
      "\n",
      "    accuracy                           0.74       515\n",
      "   macro avg       0.74      0.74      0.74       515\n",
      "weighted avg       0.74      0.74      0.74       515\n",
      "\n",
      "\u001b[31mCross Validation Score  :  \u001b[0m 0.7125167193147216\n"
     ]
    }
   ],
   "source": [
    "os_data_X.drop(['Self'],axis =1,inplace=True)\n",
    "model.LogReg(os_data_X, os_data_y)"
   ]
  },
  {
   "cell_type": "code",
   "execution_count": null,
   "metadata": {},
   "outputs": [],
   "source": []
  }
 ],
 "metadata": {
  "kernelspec": {
   "display_name": "Python 3",
   "language": "python",
   "name": "python3"
  },
  "language_info": {
   "codemirror_mode": {
    "name": "ipython",
    "version": 3
   },
   "file_extension": ".py",
   "mimetype": "text/x-python",
   "name": "python",
   "nbconvert_exporter": "python",
   "pygments_lexer": "ipython3",
   "version": "3.6.9"
  }
 },
 "nbformat": 4,
 "nbformat_minor": 2
}
