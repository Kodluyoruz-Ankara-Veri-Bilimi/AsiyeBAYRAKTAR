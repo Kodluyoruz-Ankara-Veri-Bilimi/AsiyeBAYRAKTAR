{
 "cells": [
  {
   "cell_type": "code",
   "execution_count": 1,
   "metadata": {},
   "outputs": [
    {
     "name": "stdout",
     "output_type": "stream",
     "text": [
      "importing Jupyter notebook from Classes.ipynb\n"
     ]
    },
    {
     "name": "stderr",
     "output_type": "stream",
     "text": [
      "C:\\Users\\Asiye\\Anaconda3\\lib\\site-packages\\sklearn\\externals\\six.py:31: DeprecationWarning: The module is deprecated in version 0.21 and will be removed in version 0.23 since we've dropped support for Python 2.7. Please rely on the official version of six (https://pypi.org/project/six/).\n",
      "  \"(https://pypi.org/project/six/).\", DeprecationWarning)\n"
     ]
    }
   ],
   "source": [
    "import pandas as pd\n",
    "import numpy as np\n",
    "import seaborn as sns\n",
    "import matplotlib.pyplot as plt\n",
    "\n",
    "import import_ipynb\n",
    "import Classes\n",
    "\n",
    "from warnings import filterwarnings\n",
    "filterwarnings('ignore')"
   ]
  },
  {
   "cell_type": "code",
   "execution_count": 2,
   "metadata": {},
   "outputs": [],
   "source": [
    "data = pd.read_excel(\"HW_Data_Set.xlsx\")"
   ]
  },
  {
   "cell_type": "code",
   "execution_count": 3,
   "metadata": {},
   "outputs": [
    {
     "name": "stdout",
     "output_type": "stream",
     "text": [
      "--------------------------  DATA HEAD --------------------------\n",
      "\n",
      "   ind_5  ind_6  ind_8      ind_9     ind_10     ind_12     ind_13  ind_14  \\\n",
      "0     19     17  100.0  85.714286  14.285714  72.363515  60.808814   23.80   \n",
      "1     24     19  100.0  78.571429  21.428571  74.275883  64.366798   11.45   \n",
      "2     30     24  100.0  71.428571  28.571429  75.140402  65.915803    8.75   \n",
      "3     37     30  100.0  64.285714  35.714286  76.677846  68.584234    7.80   \n",
      "4     41     37  100.0  57.142857  42.857143  81.603007  76.455495   14.90   \n",
      "\n",
      "   ind_15  ind_16  ...  ind_416  ind_418  ind_420  ind_422  ind_424   ind_426  \\\n",
      "0   17.62   11.73  ...    -49.6      -54     -152     -353      1.0  0.498547   \n",
      "1   18.16   12.22  ...    -55.6      -60     -158     -359      1.0  0.537088   \n",
      "2   17.86   12.28  ...    -58.4      -60     -160     -362      1.0  0.615169   \n",
      "3   14.76   12.61  ...    -61.8      -65     -166     -367      1.0  0.661517   \n",
      "4   11.92   14.25  ...    -79.8      -86     -186     -388      1.0  0.747204   \n",
      "\n",
      "    ind_428  20_target  50_target  90_target  \n",
      "0  0.701906  15.135802  35.625252  36.997753  \n",
      "1  0.690833  15.143348  35.643013  37.016198  \n",
      "2  0.693040  15.146870  35.651301 -37.024805  \n",
      "3  0.673418  15.153283   0.000000 -37.040483  \n",
      "4  0.700522 -15.179065 -35.727079 -37.103503  \n",
      "\n",
      "[5 rows x 136 columns]\n",
      "\n",
      "--------------------------  DATA DESCRIBE --------------------------\n",
      "\n",
      "            count       mean        std         min        25%        50%  \\\n",
      "ind_5      6167.0  -0.803146  23.624403 -131.000000 -14.000000   0.000000   \n",
      "ind_6      6167.0  -0.803470  23.624144 -131.000000 -14.000000   0.000000   \n",
      "ind_8      6167.0  48.388890  36.388526    0.000000  14.285714  50.000000   \n",
      "ind_9      6167.0  48.289282  36.478009    0.000000  14.285714  50.000000   \n",
      "ind_10     6167.0   0.099609  60.414625 -100.000000 -50.000000   0.000000   \n",
      "...           ...        ...        ...         ...        ...        ...   \n",
      "ind_426    6167.0   0.498188   0.228547    0.000000   0.323783   0.495192   \n",
      "ind_428    6167.0   0.490174   0.150483    0.083530   0.379894   0.487078   \n",
      "20_target  6167.0  -0.057102  14.834497  -15.780588 -15.350354   0.000000   \n",
      "50_target  6167.0  -2.906358  34.559778  -37.142889 -36.208094 -34.267756   \n",
      "90_target  6167.0  -3.315072  36.841541  -38.573858 -37.695273 -35.788391   \n",
      "\n",
      "                 75%         max  \n",
      "ind_5      13.000000   76.000000  \n",
      "ind_6      13.000000   76.000000  \n",
      "ind_8      85.714286  100.000000  \n",
      "ind_9      85.714286  100.000000  \n",
      "ind_10     57.142857  100.000000  \n",
      "...              ...         ...  \n",
      "ind_426     0.675730    1.000000  \n",
      "ind_428     0.601508    0.868534  \n",
      "20_target  15.385945   15.768767  \n",
      "50_target  35.879524   37.038694  \n",
      "90_target  37.521892   38.465649  \n",
      "\n",
      "[133 rows x 8 columns]\n",
      "\n",
      "--------------------------  DATA INFO --------------------------\n",
      "\n",
      "<class 'pandas.core.frame.DataFrame'>\n",
      "RangeIndex: 6167 entries, 0 to 6166\n",
      "Columns: 136 entries, ind_5 to 90_target\n",
      "dtypes: float64(88), int64(45), object(3)\n",
      "memory usage: 6.3+ MB\n",
      "None\n",
      "\n",
      "--------------------------  DATA SHAPE --------------------------\n",
      "\n",
      "(6167, 136)\n",
      "\n"
     ]
    }
   ],
   "source": [
    "information = Classes.Information(data)\n",
    "information.data_features()"
   ]
  },
  {
   "cell_type": "code",
   "execution_count": 4,
   "metadata": {},
   "outputs": [
    {
     "name": "stdout",
     "output_type": "stream",
     "text": [
      "\u001b[34m------------  Missing Values  -------------\u001b[0m\n"
     ]
    },
    {
     "data": {
      "text/plain": [
       "90_target    0\n",
       "ind_51       0\n",
       "ind_62       0\n",
       "ind_61       0\n",
       "ind_58       0\n",
       "            ..\n",
       "ind_311      0\n",
       "ind_313      0\n",
       "ind_315      0\n",
       "ind_316      0\n",
       "ind_5        0\n",
       "Length: 136, dtype: int64"
      ]
     },
     "execution_count": 4,
     "metadata": {},
     "output_type": "execute_result"
    }
   ],
   "source": [
    "p = Classes.Preprocess(data)\n",
    "p.get_missing_values()"
   ]
  },
  {
   "cell_type": "code",
   "execution_count": 5,
   "metadata": {},
   "outputs": [
    {
     "name": "stdout",
     "output_type": "stream",
     "text": [
      "\n"
     ]
    },
    {
     "data": {
      "image/png": "[encoded data removed]",
      "text/plain": [
       "<Figure size 864x432 with 2 Axes>"
      ]
     },
     "metadata": {
      "needs_background": "light"
     },
     "output_type": "display_data"
    }
   ],
   "source": [
    "v = Classes.Visualizer()\n",
    "v.missing_values(data)"
   ]
  },
  {
   "cell_type": "code",
   "execution_count": 6,
   "metadata": {},
   "outputs": [],
   "source": [
    "data = data[data['ind_420'] != '?']\n",
    "data = data[data['ind_422'] != '?']\n",
    "\n",
    "#dummy\n",
    "\n",
    "RED = pd.get_dummies(data['ind_109'], drop_first =True)\n",
    "data=pd.concat([data,RED],axis=1)\n",
    "data.drop(['ind_109'],axis =1,inplace=True)"
   ]
  },
  {
   "cell_type": "code",
   "execution_count": 7,
   "metadata": {},
   "outputs": [],
   "source": [
    "X = data.iloc[:, 0:132]\n",
    "y = data.loc[:, data.columns == '20_target']"
   ]
  },
  {
   "cell_type": "code",
   "execution_count": 8,
   "metadata": {},
   "outputs": [
    {
     "data": {
      "text/html": [
       "<div>\n",
       "<style scoped>\n",
       "    .dataframe tbody tr th:only-of-type {\n",
       "        vertical-align: middle;\n",
       "    }\n",
       "\n",
       "    .dataframe tbody tr th {\n",
       "        vertical-align: top;\n",
       "    }\n",
       "\n",
       "    .dataframe thead th {\n",
       "        text-align: right;\n",
       "    }\n",
       "</style>\n",
       "<table border=\"1\" class=\"dataframe\">\n",
       "  <thead>\n",
       "    <tr style=\"text-align: right;\">\n",
       "      <th></th>\n",
       "      <th>ind_420</th>\n",
       "      <th>ind_422</th>\n",
       "    </tr>\n",
       "  </thead>\n",
       "  <tbody>\n",
       "    <tr>\n",
       "      <td>0</td>\n",
       "      <td>-152</td>\n",
       "      <td>-353</td>\n",
       "    </tr>\n",
       "    <tr>\n",
       "      <td>1</td>\n",
       "      <td>-158</td>\n",
       "      <td>-359</td>\n",
       "    </tr>\n",
       "    <tr>\n",
       "      <td>2</td>\n",
       "      <td>-160</td>\n",
       "      <td>-362</td>\n",
       "    </tr>\n",
       "    <tr>\n",
       "      <td>3</td>\n",
       "      <td>-166</td>\n",
       "      <td>-367</td>\n",
       "    </tr>\n",
       "    <tr>\n",
       "      <td>4</td>\n",
       "      <td>-186</td>\n",
       "      <td>-388</td>\n",
       "    </tr>\n",
       "    <tr>\n",
       "      <td>...</td>\n",
       "      <td>...</td>\n",
       "      <td>...</td>\n",
       "    </tr>\n",
       "    <tr>\n",
       "      <td>6162</td>\n",
       "      <td>-11</td>\n",
       "      <td>-270</td>\n",
       "    </tr>\n",
       "    <tr>\n",
       "      <td>6163</td>\n",
       "      <td>-12</td>\n",
       "      <td>-271</td>\n",
       "    </tr>\n",
       "    <tr>\n",
       "      <td>6164</td>\n",
       "      <td>-21</td>\n",
       "      <td>-280</td>\n",
       "    </tr>\n",
       "    <tr>\n",
       "      <td>6165</td>\n",
       "      <td>-33</td>\n",
       "      <td>-292</td>\n",
       "    </tr>\n",
       "    <tr>\n",
       "      <td>6166</td>\n",
       "      <td>-28</td>\n",
       "      <td>-288</td>\n",
       "    </tr>\n",
       "  </tbody>\n",
       "</table>\n",
       "<p>5126 rows × 2 columns</p>\n",
       "</div>"
      ],
      "text/plain": [
       "     ind_420 ind_422\n",
       "0       -152    -353\n",
       "1       -158    -359\n",
       "2       -160    -362\n",
       "3       -166    -367\n",
       "4       -186    -388\n",
       "...      ...     ...\n",
       "6162     -11    -270\n",
       "6163     -12    -271\n",
       "6164     -21    -280\n",
       "6165     -33    -292\n",
       "6166     -28    -288\n",
       "\n",
       "[5126 rows x 2 columns]"
      ]
     },
     "execution_count": 8,
     "metadata": {},
     "output_type": "execute_result"
    }
   ],
   "source": [
    "cate =X.select_dtypes(include='object')\n",
    "cate"
   ]
  },
  {
   "cell_type": "code",
   "execution_count": 9,
   "metadata": {},
   "outputs": [
    {
     "data": {
      "text/plain": [
       "ind_5      float64\n",
       "ind_6      float64\n",
       "ind_8      float64\n",
       "ind_9      float64\n",
       "ind_10     float64\n",
       "            ...   \n",
       "ind_420    float64\n",
       "ind_422    float64\n",
       "ind_424    float64\n",
       "ind_426    float64\n",
       "ind_428    float64\n",
       "Length: 132, dtype: object"
      ]
     },
     "execution_count": 9,
     "metadata": {},
     "output_type": "execute_result"
    }
   ],
   "source": [
    "X.astype('float64').dtypes"
   ]
  },
  {
   "cell_type": "code",
   "execution_count": 10,
   "metadata": {},
   "outputs": [],
   "source": [
    "from sklearn.model_selection import train_test_split\n",
    "\n",
    "X_train, X_test, y_train, y_test = train_test_split(X,y,test_size = 0.2, random_state = 42)"
   ]
  },
  {
   "cell_type": "code",
   "execution_count": 11,
   "metadata": {},
   "outputs": [
    {
     "data": {
      "text/plain": [
       "PCA(copy=True, iterated_power='auto', n_components=None, random_state=None,\n",
       "    svd_solver='auto', tol=0.0, whiten=True)"
      ]
     },
     "execution_count": 11,
     "metadata": {},
     "output_type": "execute_result"
    }
   ],
   "source": [
    "from sklearn.decomposition import PCA\n",
    "pca = PCA(whiten = True)\n",
    "pca.fit(X_train)"
   ]
  },
  {
   "cell_type": "code",
   "execution_count": 12,
   "metadata": {},
   "outputs": [
    {
     "data": {
      "image/png": "[encoded data removed]",
      "text/plain": [
       "<Figure size 432x288 with 1 Axes>"
      ]
     },
     "metadata": {
      "needs_background": "light"
     },
     "output_type": "display_data"
    }
   ],
   "source": [
    "plt.plot(np.cumsum(pca.explained_variance_ratio_))\n",
    "plt.xlabel('number of components')\n",
    "plt.ylabel('cumulative explained variance');"
   ]
  },
  {
   "cell_type": "code",
   "execution_count": 13,
   "metadata": {},
   "outputs": [],
   "source": [
    "pca2 = PCA(n_components = 30,whiten = True)\n",
    "pca2.fit(X_train)\n",
    "x_pca = pca2.transform(X_train)"
   ]
  },
  {
   "cell_type": "code",
   "execution_count": 14,
   "metadata": {
    "scrolled": true
   },
   "outputs": [
    {
     "name": "stdout",
     "output_type": "stream",
     "text": [
      "Variance ratio :  [0.57391723 0.16684296 0.07352285 0.03447803 0.02251061 0.01961884\n",
      " 0.01331643 0.0118239  0.00957018 0.00792338 0.00627764 0.00562108\n",
      " 0.00528015 0.00455268 0.00440218 0.00411338 0.00366839 0.00322172\n",
      " 0.002702   0.00266841 0.00230924 0.00227372 0.00221265 0.00191875\n",
      " 0.00171034 0.00167074 0.00146655 0.00115335 0.00103255 0.00095407]\n"
     ]
    }
   ],
   "source": [
    "print(\"Variance ratio : \",pca2.explained_variance_ratio_)"
   ]
  },
  {
   "cell_type": "code",
   "execution_count": 15,
   "metadata": {},
   "outputs": [
    {
     "name": "stdout",
     "output_type": "stream",
     "text": [
      "Sum :  0.99273400667\n"
     ]
    }
   ],
   "source": [
    "print(\"Sum : \",sum(pca2.explained_variance_ratio_))"
   ]
  },
  {
   "cell_type": "code",
   "execution_count": 16,
   "metadata": {},
   "outputs": [],
   "source": [
    "from sklearn.preprocessing import StandardScaler\n",
    "\n",
    "sc = StandardScaler() \n",
    "X_std = sc.fit_transform(X_train)\n",
    "pca3 = PCA()\n",
    "X_pca = pca3.fit(X_std)"
   ]
  },
  {
   "cell_type": "code",
   "execution_count": 17,
   "metadata": {},
   "outputs": [
    {
     "data": {
      "image/png": "[encoded data removed]",
      "text/plain": [
       "<Figure size 432x288 with 1 Axes>"
      ]
     },
     "metadata": {
      "needs_background": "light"
     },
     "output_type": "display_data"
    }
   ],
   "source": [
    "plt.plot(np.cumsum(pca3.explained_variance_ratio_))\n",
    "plt.xlabel('number of components')\n",
    "plt.ylabel('cumulative explained variance');"
   ]
  },
  {
   "cell_type": "code",
   "execution_count": 18,
   "metadata": {},
   "outputs": [
    {
     "name": "stdout",
     "output_type": "stream",
     "text": [
      "Sum :  0.918837788466772\n"
     ]
    }
   ],
   "source": [
    "pca3 = PCA(n_components = 30)  \n",
    "X_pca = pca3.fit_transform(X_std)\n",
    "print(\"Sum : \",sum(pca3.explained_variance_ratio_))"
   ]
  },
  {
   "cell_type": "code",
   "execution_count": 19,
   "metadata": {},
   "outputs": [],
   "source": [
    "from sklearn.linear_model import LinearRegression\n",
    "\n",
    "lm = LinearRegression()\n",
    "pcr_model = lm.fit(X_pca, y_train)"
   ]
  },
  {
   "cell_type": "code",
   "execution_count": 20,
   "metadata": {},
   "outputs": [],
   "source": [
    "y_pred = pcr_model.predict(X_pca)"
   ]
  },
  {
   "cell_type": "code",
   "execution_count": 21,
   "metadata": {},
   "outputs": [
    {
     "data": {
      "text/plain": [
       "14.52790086113115"
      ]
     },
     "execution_count": 21,
     "metadata": {},
     "output_type": "execute_result"
    }
   ],
   "source": [
    "from sklearn.metrics import mean_squared_error, r2_score\n",
    "np.sqrt(mean_squared_error(y_train, y_pred))"
   ]
  },
  {
   "cell_type": "code",
   "execution_count": null,
   "metadata": {},
   "outputs": [],
   "source": []
  }
 ],
 "metadata": {
  "kernelspec": {
   "display_name": "Python 3",
   "language": "python",
   "name": "python3"
  },
  "language_info": {
   "codemirror_mode": {
    "name": "ipython",
    "version": 3
   },
   "file_extension": ".py",
   "mimetype": "text/x-python",
   "name": "python",
   "nbconvert_exporter": "python",
   "pygments_lexer": "ipython3",
   "version": "3.6.9"
  }
 },
 "nbformat": 4,
 "nbformat_minor": 2
}
